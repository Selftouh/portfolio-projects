{
 "cells": [
  {
   "cell_type": "code",
   "execution_count": 1,
   "metadata": {},
   "outputs": [
    {
     "name": "stderr",
     "output_type": "stream",
     "text": [
      "c:\\Users\\SalmaneElFtouh\\AppData\\Local\\Programs\\Python\\Python39\\lib\\site-packages\\numpy\\_distributor_init.py:30: UserWarning: loaded more than 1 DLL from .libs:\n",
      "c:\\Users\\SalmaneElFtouh\\AppData\\Local\\Programs\\Python\\Python39\\lib\\site-packages\\numpy\\.libs\\libopenblas.FB5AE2TYXYH2IJRDKGDGQ3XBKLKTF43H.gfortran-win_amd64.dll\n",
      "c:\\Users\\SalmaneElFtouh\\AppData\\Local\\Programs\\Python\\Python39\\lib\\site-packages\\numpy\\.libs\\libopenblas.GK7GX5KEQ4F6UYO3P26ULGBQYHGQO7J4.gfortran-win_amd64.dll\n",
      "  warnings.warn(\"loaded more than 1 DLL from .libs:\"\n"
     ]
    },
    {
     "name": "stdout",
     "output_type": "stream",
     "text": [
      "Num GPUs Available:  1\n"
     ]
    }
   ],
   "source": [
    "import tensorflow as tf\n",
    "import numpy as np\n",
    "import scipy\n",
    "np.set_printoptions(precision=3,suppress=True)\n",
    "print(\"Num GPUs Available: \", len(tf.config.list_physical_devices('GPU')))"
   ]
  },
  {
   "cell_type": "code",
   "execution_count": 2,
   "metadata": {},
   "outputs": [],
   "source": [
    "from tensorflow.keras.layers import Dense\n",
    "from tensorflow.keras import Sequential\n",
    "\n",
    "N=10\n",
    "model = Sequential()\n",
    "model.add(Dense(4*N, activation='tanh'))\n",
    "model.add(Dense(2, activation='softmax'))\n",
    "\n",
    "model.compile(loss=tf.keras.metrics.categorical_crossentropy,\n",
    "              optimizer=tf.optimizers.SGD(1),\n",
    "              metrics=['accuracy'])\n"
   ]
  },
  {
   "cell_type": "code",
   "execution_count": 3,
   "metadata": {},
   "outputs": [],
   "source": [
    "def binary2array(n,len_):\n",
    "    t=[ 0. if e=='0' else 1. for e in format(n,'b')]\n",
    "    a=int(np.floor(np.log2(n) if n!=0 else 0)+1.)\n",
    "    t=[0. for i in range(len_-a)]+t\n",
    "    return np.array([t],dtype=np.float32)\n",
    "\n",
    "def xor(n,len_):\n",
    "    return [[1.,0.]] if (n==0 or n==(np.power(2,len_)-1)) else [[0.,1.]]\n",
    "\n",
    "def generate_binary_array(len_):\n",
    "    x=np.empty((0,len_),dtype=np.float32)\n",
    "    y=np.empty((0,2),dtype=np.float32)\n",
    "    a=2**len_\n",
    "    for i in range(a):\n",
    "        b=binary2array(i,len_)\n",
    "        x=np.append(x,b,axis=0)    \n",
    "        y=np.append(y,xor(i,len_),axis=0)    \n",
    "\n",
    "    return {'x':x,'y':y}\n",
    "\n",
    "\n"
   ]
  },
  {
   "cell_type": "code",
   "execution_count": 4,
   "metadata": {},
   "outputs": [],
   "source": [
    "dict_=generate_binary_array(N)\n",
    "output_=model.fit(dict_['x'],dict_['y'],epochs=500,verbose=0)\n",
    "#print(output_.history)"
   ]
  },
  {
   "cell_type": "code",
   "execution_count": 5,
   "metadata": {},
   "outputs": [
    {
     "name": "stdout",
     "output_type": "stream",
     "text": [
      "True\n"
     ]
    }
   ],
   "source": [
    "pred=model.predict_on_batch(dict_['x'])\n",
    "\n",
    "check=True\n",
    "for i,e,o in zip(dict_['x'],dict_['y'],pred,):\n",
    "    check&=e[0]==np.round(o[0])\n",
    "    #print(i,\" expected : \" ,e,\" result : \",o,\" check: \",e[0]==np.round(o[0]))\n",
    "print(check)"
   ]
  },
  {
   "cell_type": "markdown",
   "metadata": {},
   "source": []
  }
 ],
 "metadata": {
  "kernelspec": {
   "display_name": "Python 3.9.1 64-bit",
   "language": "python",
   "name": "python3"
  },
  "language_info": {
   "codemirror_mode": {
    "name": "ipython",
    "version": 3
   },
   "file_extension": ".py",
   "mimetype": "text/x-python",
   "name": "python",
   "nbconvert_exporter": "python",
   "pygments_lexer": "ipython3",
   "version": "3.9.1"
  },
  "orig_nbformat": 4,
  "vscode": {
   "interpreter": {
    "hash": "01d189f8b5e9fa9b2e7d609d8ca09ccf922bfb519caaeba51ce375a1c3cbab37"
   }
  }
 },
 "nbformat": 4,
 "nbformat_minor": 2
}
