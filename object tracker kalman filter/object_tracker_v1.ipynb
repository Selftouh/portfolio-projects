{
 "cells": [
  {
   "cell_type": "code",
   "execution_count": 216,
   "metadata": {},
   "outputs": [],
   "source": [
    "import cv2 as cv\n",
    "import numpy as np"
   ]
  },
  {
   "cell_type": "code",
   "execution_count": 217,
   "metadata": {},
   "outputs": [],
   "source": [
    "\n",
    "u = (160//2, 80*255//100, 80*255//100)\n",
    "l = (90//2, 30*255//100, 30*255//100)\n",
    "\n",
    "def detect_obj(image,l,u):\n",
    "    mask = cv.inRange(cv.cvtColor(image, cv.COLOR_BGR2HSV), l, u)\n",
    "    \n",
    "    mask = cv.erode(mask, None, iterations=1)\n",
    "    mask = cv.dilate(mask, None, iterations=3)\n",
    "\n",
    "    elements = cv.findContours(\n",
    "        mask, cv.RETR_EXTERNAL, cv.CHAIN_APPROX_SIMPLE)[-2]\n",
    "\n",
    "    #result = cv.bitwise_and(frame, frame, mask=mask)\n",
    "    c=None\n",
    "    point=None\n",
    "    radius=0\n",
    "    if elements:\n",
    "        c = max(elements, key=cv.contourArea)\n",
    "        ((x, y), radius) = cv.minEnclosingCircle(c)\n",
    "        point=np.array([np.int32(x), np.int32(y)],dtype=np.int32)\n",
    "\n",
    "    return point,np.int32(radius),mask,c\n",
    "\n"
   ]
  },
  {
   "cell_type": "code",
   "execution_count": 221,
   "metadata": {},
   "outputs": [],
   "source": [
    "\n",
    "cap = cv.VideoCapture(0)\n",
    "while cap.isOpened():\n",
    "    ret, frame = cap.read()\n",
    "\n",
    "    # print(np.max(hsl_frame[:,:,0]))\n",
    "\n",
    "    #mask = get_mask(frame, 60,5)\n",
    "    point,r,_,c =detect_obj(frame,l,u)\n",
    "    #result = cv.bitwise_and(frame, frame, mask=mask)\n",
    "    if point is not None:\n",
    "        cv.circle(frame, point,\n",
    "                  r, (0, 255, 255))\n",
    "        cv.circle(frame, point,\n",
    "                  1, (255,0,0),10)\n",
    "        cv.polylines(frame, [c], True, (0, 255, 0))\n",
    "        \n",
    "\n",
    "    cv.imshow('webcam', frame)\n",
    "\n",
    "    #cv.imshow('webcam_filtred', result)\n",
    "    key = cv.waitKey(10) & 0xff\n",
    "\n",
    "    if key == ord('q'):\n",
    "        break\n",
    "\n",
    "cv.destroyAllWindows()\n",
    "cap.release()"
   ]
  }
 ],
 "metadata": {
  "kernelspec": {
   "display_name": "Python 3.9.1 64-bit",
   "language": "python",
   "name": "python3"
  },
  "language_info": {
   "codemirror_mode": {
    "name": "ipython",
    "version": 3
   },
   "file_extension": ".py",
   "mimetype": "text/x-python",
   "name": "python",
   "nbconvert_exporter": "python",
   "pygments_lexer": "ipython3",
   "version": "3.9.1"
  },
  "orig_nbformat": 4,
  "vscode": {
   "interpreter": {
    "hash": "01d189f8b5e9fa9b2e7d609d8ca09ccf922bfb519caaeba51ce375a1c3cbab37"
   }
  }
 },
 "nbformat": 4,
 "nbformat_minor": 2
}
