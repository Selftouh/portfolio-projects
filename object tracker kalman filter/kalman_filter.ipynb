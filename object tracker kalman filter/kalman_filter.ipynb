{
 "cells": [
  {
   "cell_type": "code",
   "execution_count": 57,
   "metadata": {},
   "outputs": [],
   "source": [
    "import numpy as np"
   ]
  },
  {
   "cell_type": "code",
   "execution_count": 58,
   "metadata": {},
   "outputs": [],
   "source": [
    "dt = 1/30\n",
    "\n",
    "A = np.array([[1, 0, dt, 0],\n",
    "              [0, 1, 0, dt],\n",
    "              [0, 0, 1, 0],\n",
    "              [0, 0, 0, 1]], dtype=np.float32)\n",
    "P_t = np.eye(A.shape[1], dtype=np.float32)\n",
    "Q_t = np.eye(A.shape[1], dtype=np.float32)\n",
    "E_t = np.array([[0], [0], [0], [0]], dtype=np.float32)\n",
    "\n",
    "\n",
    "H_t = np.array([[1, 0, 0, 0],\n",
    "                [0, 1, 0, 0]], dtype=np.float32)\n",
    "R_t = np.eye(H_t.shape[0], dtype=np.float32)\n"
   ]
  },
  {
   "cell_type": "code",
   "execution_count": 59,
   "metadata": {},
   "outputs": [],
   "source": [
    "def update_A(dt):\n",
    "    global A\n",
    "    A = np.array([[1, 0, dt, 0],\n",
    "                [0, 1, 0, dt],\n",
    "                [0, 0, 1, 0],\n",
    "                [0, 0, 0, 1]], dtype=np.float32)\n",
    "\n",
    "def predict():\n",
    "    global E_t,P_t\n",
    "    E_t = A @ E_t\n",
    "    P_t = A @ P_t @ A.T + Q_t\n",
    "    return E_t\n",
    "\n",
    "def update(Z):\n",
    "    global E_t,P_t\n",
    "    K = P_t@H_t.T @ np.linalg.inv(H_t@P_t@H_t.T+R_t)\n",
    "    E_t = E_t+K@(Z-H_t@E_t)\n",
    "    P_t = (np.eye(H_t.shape[1], dtype=np.float32)-K@H_t)@P_t\n",
    "    return E_t"
   ]
  },
  {
   "cell_type": "code",
   "execution_count": 60,
   "metadata": {},
   "outputs": [],
   "source": [
    "from object_tracker_v1 import detect_obj\n",
    "import cv2 as cv\n",
    "import time\n"
   ]
  },
  {
   "cell_type": "code",
   "execution_count": 70,
   "metadata": {},
   "outputs": [
    {
     "name": "stdout",
     "output_type": "stream",
     "text": [
      "60\n"
     ]
    }
   ],
   "source": [
    "\n",
    "u = (160//2, 80*255//100, 80*255//100)\n",
    "l = (90//2, 30*255//100, 30*255//100)\n",
    "point=np.array([0,0],dtype=np.int32)\n",
    "\n",
    "SOURCE='vid.mkv'\n",
    "cap = cv.VideoCapture(SOURCE)\n",
    "frame_width = int(cap.get(3))\n",
    "frame_height = int(cap.get(4))\n",
    "fps= int(cap.get(cv.CAP_PROP_FPS))\n",
    "print(fps)\n",
    "out = cv.VideoWriter('out2.avi',cv.VideoWriter_fourcc('M','J','P','G'), fps, (frame_width,frame_height))\n",
    " \n",
    "start = time.time()\n",
    "while cap.isOpened():\n",
    "    \n",
    "    ret, frame = cap.read()\n",
    "    if not ret:\n",
    "        break\n",
    "    point, r, _, c = detect_obj(frame, l, u)\n",
    "    \n",
    "    etat=predict()\n",
    "    if point is not None:\n",
    "        cv.circle(frame, point,\n",
    "                  r, (0, 255, 255))\n",
    "        cur_pt= np.int32(etat[:2].reshape((1,2))[0])\n",
    "        next_pt=np.int32(etat[2:].reshape((1,2))[0])\n",
    "        cv.circle(frame, cur_pt,\n",
    "                  4, (255, 0, 255),5)\n",
    "       \n",
    "        cv.circle(frame, cur_pt+next_pt,\n",
    "                  4, (0, 0, 255),5)\n",
    "\n",
    "\n",
    "        cv.arrowedLine(frame,\n",
    "                  cur_pt,cur_pt+next_pt,\n",
    "                    color=(255,0, 0),\n",
    "                    thickness=2,\n",
    "                    tipLength=0.2)\n",
    "    \n",
    "        cv.circle(frame, point,\n",
    "                  1, (255, 0, 0), 5)\n",
    "        cv.polylines(frame, [c], True, (90, 90, 90))\n",
    "        update(np.expand_dims(np.array([point[0],point[1]],dtype=np.float32),axis=-1))\n",
    "\n",
    "    out.write(frame)\n",
    "    frame2=cv.resize(frame,(frame.shape[1]//2,frame.shape[0]//2))\n",
    "    cv.imshow('webcam', frame2)\n",
    "    \n",
    "    key = cv.waitKey(1) & 0xff\n",
    "\n",
    "    end = time.time()\n",
    "    if end!=start:\n",
    "        dt=end - start\n",
    "        update_A(end - start)\n",
    "    else:\n",
    "        time.sleep(0.1)\n",
    "        update_A(0.1)\n",
    "    start = time.time()\n",
    "    if key == ord('q'):\n",
    "        break\n",
    "\n",
    "\n",
    "cv.destroyAllWindows()\n",
    "cap.release()\n",
    "out.release()\n"
   ]
  }
 ],
 "metadata": {
  "kernelspec": {
   "display_name": "Python 3.9.1 64-bit",
   "language": "python",
   "name": "python3"
  },
  "language_info": {
   "codemirror_mode": {
    "name": "ipython",
    "version": 3
   },
   "file_extension": ".py",
   "mimetype": "text/x-python",
   "name": "python",
   "nbconvert_exporter": "python",
   "pygments_lexer": "ipython3",
   "version": "3.9.1"
  },
  "orig_nbformat": 4,
  "vscode": {
   "interpreter": {
    "hash": "01d189f8b5e9fa9b2e7d609d8ca09ccf922bfb519caaeba51ce375a1c3cbab37"
   }
  }
 },
 "nbformat": 4,
 "nbformat_minor": 2
}
