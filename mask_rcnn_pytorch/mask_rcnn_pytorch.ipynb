{
 "cells": [
  {
   "cell_type": "code",
   "execution_count": 1,
   "metadata": {},
   "outputs": [
    {
     "name": "stderr",
     "output_type": "stream",
     "text": [
      "c:\\Users\\SalmaneElFtouh\\AppData\\Local\\Programs\\Python\\Python39\\lib\\site-packages\\numpy\\_distributor_init.py:30: UserWarning: loaded more than 1 DLL from .libs:\n",
      "c:\\Users\\SalmaneElFtouh\\AppData\\Local\\Programs\\Python\\Python39\\lib\\site-packages\\numpy\\.libs\\libopenblas.FB5AE2TYXYH2IJRDKGDGQ3XBKLKTF43H.gfortran-win_amd64.dll\n",
      "c:\\Users\\SalmaneElFtouh\\AppData\\Local\\Programs\\Python\\Python39\\lib\\site-packages\\numpy\\.libs\\libopenblas.GK7GX5KEQ4F6UYO3P26ULGBQYHGQO7J4.gfortran-win_amd64.dll\n",
      "  warnings.warn(\"loaded more than 1 DLL from .libs:\"\n"
     ]
    }
   ],
   "source": [
    "import cv2\n",
    "import matplotlib.pyplot as plt\n",
    "import numpy as np\n",
    "import random\n",
    "from torch import load, FloatTensor, no_grad, device"
   ]
  },
  {
   "cell_type": "code",
   "execution_count": 2,
   "metadata": {},
   "outputs": [
    {
     "name": "stdout",
     "output_type": "stream",
     "text": [
      "Good!\n"
     ]
    }
   ],
   "source": [
    "\n",
    "device = device(\"cpu\")\n",
    "\n",
    "model = load('maskrcnn_resnet50_fpn.pth')\n",
    "model = model.to(device)\n",
    "model.eval()\n",
    "\n",
    "print(\"Good!\")"
   ]
  },
  {
   "cell_type": "code",
   "execution_count": 3,
   "metadata": {},
   "outputs": [
    {
     "name": "stderr",
     "output_type": "stream",
     "text": [
      "C:\\Users\\SalmaneElFtouh\\AppData\\Local\\Temp\\ipykernel_21160\\3305479921.py:7: UserWarning: Creating a tensor from a list of numpy.ndarrays is extremely slow. Please consider converting the list to a single numpy.ndarray with numpy.array() before converting to a tensor. (Triggered internally at  C:\\actions-runner\\_work\\pytorch\\pytorch\\builder\\windows\\pytorch\\torch\\csrc\\utils\\tensor_new.cpp:204.)\n",
      "  batch_input = FloatTensor(batch_input)\n"
     ]
    },
    {
     "name": "stdout",
     "output_type": "stream",
     "text": [
      "dict_keys(['boxes', 'labels', 'scores', 'masks'])\n",
      "show result\n"
     ]
    }
   ],
   "source": [
    "\n",
    "\n",
    "loaded_image=cv2.imread('sample3.jpg')\n",
    "\n",
    "image = loaded_image.transpose((2,0,1))\n",
    "image = image / 255.0\n",
    "\n",
    "batch_input = [image]\n",
    "batch_input = FloatTensor(batch_input)\n",
    "batch_input = batch_input.to(device)\n",
    "\n",
    "with no_grad():\n",
    "    outputs = model(batch_input)[0]\n",
    "\n",
    "labels_list=[\"__background__\",'person', 'bicycle', 'car', 'motorcycle', 'airplane', 'bus', 'train', 'truck', 'boat', 'traffic light', 'fire hydrant', None, 'stop sign', 'parking meter', 'bench', 'bird', 'cat', 'dog', 'horse', 'sheep', 'cow', 'elephant', 'bear', 'zebra', 'giraffe', None, 'backpack', 'umbrella', None, None, 'handbag', 'tie', 'suitcase', 'frisbee', 'skis', 'snowboard', 'sports ball', 'kite', 'baseball bat', 'baseball glove', 'skateboard', 'surfboard', 'tennis racket', 'bottle', None, 'wine glass', 'cup', 'fork', 'knife', 'spoon', 'bowl', 'banana', 'apple', 'sandwich', 'orange', 'broccoli', 'carrot', 'hot dog', 'pizza', 'donut', 'cake', 'chair', 'couch', 'potted plant', 'bed', None, 'dining table', None, None, 'toilet', None, 'tv', 'laptop', 'mouse', 'remote', 'keyboard', 'cell phone', 'microwave', 'oven', 'toaster', 'sink', 'refrigerator', None, 'book', 'clock', 'vase', 'scissors', 'teddy bear', 'hair drier', 'toothbrush']\n",
    "boxes = outputs[\"boxes\"]\n",
    "masks = outputs[\"masks\"]\n",
    "labels=outputs[\"labels\"]\n",
    "scores=outputs[\"scores\"]\n",
    "maskfill=np.ones(loaded_image.shape,dtype='uint8')*130\n",
    "print(outputs.keys())\n",
    "\n",
    "def apply_mask(image, mask, color, alpha=0.5):\n",
    "    \"\"\"Apply the given mask to the image.\n",
    "    \"\"\"\n",
    "    for c in range(3):\n",
    "        image[:, :, c] = np.where(mask ==1,\n",
    "                                  image[:, :, c] *\n",
    "                                  (1 - alpha) + alpha * color[c] ,\n",
    "                                  image[:, :, c])\n",
    "    return image\n",
    "\n",
    "for box,label,score,mask in zip(boxes,labels,scores,masks):\n",
    "    if score>=0.5:\n",
    "        \n",
    "        mask=mask[0].cpu().numpy()\n",
    "        mask=np.where(mask >0.5,1,0)\n",
    "        mask=np.uint8(mask)\n",
    "       \n",
    "        rand_color = random.choices(range(256), k=3)\n",
    "        xmin, ymin, xmax, ymax = box.cpu().numpy().astype(int)\n",
    "        cv2.rectangle(loaded_image, (xmin, ymin), (xmax, ymax), rand_color, 2)\n",
    "        cv2.putText(loaded_image,labels_list[label.tolist()],(xmin, ymin),cv2.FONT_HERSHEY_SIMPLEX, 0.7, (0, 255, 0), 2, cv2.LINE_AA)\n",
    "        \n",
    "        \n",
    "        loaded_image=apply_mask(loaded_image,mask,(3,34,213))\n",
    "print(\"show result\")\n",
    "cv2.imshow('image_segmentation',loaded_image)\n",
    "cv2.waitKey(0)\n",
    "cv2.destroyAllWindows() "
   ]
  }
 ],
 "metadata": {
  "kernelspec": {
   "display_name": "Python 3.9.1 64-bit",
   "language": "python",
   "name": "python3"
  },
  "language_info": {
   "codemirror_mode": {
    "name": "ipython",
    "version": 3
   },
   "file_extension": ".py",
   "mimetype": "text/x-python",
   "name": "python",
   "nbconvert_exporter": "python",
   "pygments_lexer": "ipython3",
   "version": "3.9.1"
  },
  "orig_nbformat": 4,
  "vscode": {
   "interpreter": {
    "hash": "01d189f8b5e9fa9b2e7d609d8ca09ccf922bfb519caaeba51ce375a1c3cbab37"
   }
  }
 },
 "nbformat": 4,
 "nbformat_minor": 2
}
